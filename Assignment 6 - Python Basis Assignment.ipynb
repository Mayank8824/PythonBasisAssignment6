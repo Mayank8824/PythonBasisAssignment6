{
 "cells": [
  {
   "cell_type": "code",
   "execution_count": null,
   "id": "188fadca",
   "metadata": {},
   "outputs": [],
   "source": [
    "Q.1. What are keywords in python? Using the keyword library, print all the python keywords."
   ]
  },
  {
   "cell_type": "code",
   "execution_count": null,
   "id": "aebef682",
   "metadata": {},
   "outputs": [],
   "source": [
    "Ans1. Keywords in Python are reserved words that have special meanings and purposes in the language. Keywords cannot be used as identifiers (variable names, function names, etc.) because they have predefined meanings in the language.\n",
    "\n",
    "To print all the Python keywords, we can use the keyword library that comes built-in with Python. \n",
    "\n",
    "import keyword\n",
    "\n",
    "all_keywords = keyword.kwlist\n",
    "print(all_keywords)"
   ]
  },
  {
   "cell_type": "code",
   "execution_count": null,
   "id": "fba85381",
   "metadata": {},
   "outputs": [],
   "source": [
    "Q.2. What are the rules to create variables in python?"
   ]
  },
  {
   "cell_type": "code",
   "execution_count": null,
   "id": "2db78e38",
   "metadata": {},
   "outputs": [],
   "source": [
    "Ans2. Rules for Python variables:\n",
    "\n",
    "1. A variable name must start with a letter or the underscore character.\n",
    "2. A variable name cannot start with a number.\n",
    "3. A variable name can only contain alpha-numeric characters and underscores (A-z, 0-9, and _ ).\n",
    "4. Variable names are case-sensitive (age, Age and AGE are three different variables)."
   ]
  },
  {
   "cell_type": "code",
   "execution_count": null,
   "id": "af34efe6",
   "metadata": {},
   "outputs": [],
   "source": [
    "Q.3. What are the standards and conventions followed for the nomenclature of variables in\n",
    "python to improve code readability and maintainability?"
   ]
  },
  {
   "cell_type": "code",
   "execution_count": null,
   "id": "24f1f62d",
   "metadata": {},
   "outputs": [],
   "source": [
    "Ans3. \n",
    "Following consistent naming conventions for variables in Python greatly improves code readability and maintainability. Here are some widely accepted standards and conventions:\n",
    "\n",
    "1. Use Meaningful Names:\n",
    "Choose variable names that convey their purpose or content. Avoid single-letter names (except for simple loop counters) and opt for descriptive names.\n",
    "\n",
    "2.Use Lowercase with Underscores (Snake Case):\n",
    "Separate words in variable names with underscores (e.g., my_variable, user_age). This convention enhances readability.\n",
    "\n",
    "3.Use Uppercase for Constants:\n",
    "Constants, like configuration values, are often named using uppercase letters and underscores (e.g., MAX_LENGTH, PI).\n",
    "\n",
    "4. Class Names:\n",
    "Class names should follow the CapWords convention (also known as CamelCase), where each word starts with an uppercase letter (e.g., MyClass, PersonInfo).\n",
    "\n",
    "5. Private Variables:\n",
    "Variables that are considered \"private\" should start with a single underscore (e.g., _private_variable). This indicates that the variable should not be accessed directly from outside the class or module.\n",
    "\n",
    "6.Protected Variables:\n",
    "Variables that are considered \"protected\" should start with a single underscore too (e.g., _protected_variable). This indicates that the variable should not be accessed from outside the class, unless necessary.\n"
   ]
  },
  {
   "cell_type": "code",
   "execution_count": null,
   "id": "4e000eb9",
   "metadata": {},
   "outputs": [],
   "source": [
    "Q.4. What will happen if a keyword is used as a variable name?"
   ]
  },
  {
   "cell_type": "code",
   "execution_count": null,
   "id": "bdcb422b",
   "metadata": {},
   "outputs": [],
   "source": [
    "Ans4. If a keyword is used as a variable name in Python, it will result in a SyntaxError. Keywords are reserved words in Python that have predefined meanings and purposes. Attempting to use a keyword as a variable name goes against the language's syntax rules, and Python will raise an error to prevent this misuse.\n",
    "\n",
    "For example, if you try to use a keyword like if as a variable name:\n",
    "\n",
    "if = 10\n",
    "You will get a SyntaxError similar to the following:\n",
    "\n",
    "SyntaxError: can't assign to keyword"
   ]
  },
  {
   "cell_type": "code",
   "execution_count": null,
   "id": "bec608a0",
   "metadata": {},
   "outputs": [],
   "source": [
    "Q.5. For what purpose def keyword is used?"
   ]
  },
  {
   "cell_type": "code",
   "execution_count": null,
   "id": "96c59d4d",
   "metadata": {},
   "outputs": [],
   "source": [
    "Ans5. The def keyword in Python is used to define functions.\n",
    "\n",
    "def function_name(parameters):\n",
    "    # Code block for the function\n",
    "    # ...\n",
    "    return result  # Optional\n"
   ]
  },
  {
   "cell_type": "code",
   "execution_count": null,
   "id": "a74f9f14",
   "metadata": {},
   "outputs": [],
   "source": [
    "Q.6. What is the operation of this special character ‘\\’?"
   ]
  },
  {
   "cell_type": "code",
   "execution_count": null,
   "id": "510feb58",
   "metadata": {},
   "outputs": [],
   "source": [
    "Ans6. In Python, the special character \\ is used as an escape character. An escape character is used to indicate that the character immediately following it has a special meaning or should be treated in a specific way.\n",
    "\n",
    "Escape Sequences in Strings:\n",
    "\n",
    "Backslashes are used to create escape sequences within strings. For example:\n",
    "'\\n': Represents a newline character.\n",
    "'\\t': Represents a tab character.\n",
    "'\\\\\"': Represents a double quote within a double-quoted string.\n",
    "\\': Represents a single quote within a single-quoted string.\n",
    "\\\\: Represents a literal backslash."
   ]
  },
  {
   "cell_type": "code",
   "execution_count": null,
   "id": "4ab4b6b2",
   "metadata": {},
   "outputs": [],
   "source": [
    "Q.7. Give an example of the following conditions:\n",
    "(i) Homogeneous list\n",
    "(ii) Heterogeneous set\n",
    "(iii) Homogeneous tuple"
   ]
  },
  {
   "cell_type": "code",
   "execution_count": null,
   "id": "55792540",
   "metadata": {},
   "outputs": [],
   "source": [
    "Ans7. \n",
    "\n",
    "(i) homogeneous_list = [1, 2, 3, 4, 5]\n",
    "\n",
    "(ii) heterogeneous_set = {\"apple\", 42, 3.14, True}\n",
    "\n",
    "(iii) homogeneous_tuple = (\"apple\", \"banana\", \"cherry\", \"date\")\n"
   ]
  },
  {
   "cell_type": "code",
   "execution_count": null,
   "id": "81b13b07",
   "metadata": {},
   "outputs": [],
   "source": [
    "Q.8. Explain the mutable and immutable data types with proper explanation & examples."
   ]
  },
  {
   "cell_type": "code",
   "execution_count": null,
   "id": "e0cba50f",
   "metadata": {},
   "outputs": [],
   "source": [
    "Ans8. \n",
    "\n",
    "1. Mutable Data Types:\n",
    "A mutable data type is one where the data contained within the object can be changed or modified after the object is created. This means you can update, add, or remove elements from the object without creating a new instance. Lists and dictionaries are examples of mutable data types.\n",
    "\n",
    "Example with a list (mutable):\n",
    "\n",
    "my_list = [1, 2, 3]\n",
    "my_list[0] = 10  # Change the first element from 1 to 10\n",
    "my_list.append(4)  # Add 4 to the end of the list\n",
    "\n",
    "\n",
    "2. Immutable Data Types:\n",
    "An immutable data type, on the other hand, is one where the data contained within the object cannot be changed after the object is created. If you want to modify the data, you need to create a new instance with the desired changes. Strings, tuples, and numbers are examples of immutable data types.\n",
    "\n",
    "Example with a string (immutable):\n",
    "\n",
    "my_string = \"Hello\"\n",
    "new_string = my_string + \" World\"  # Create a new string with the concatenated value"
   ]
  },
  {
   "cell_type": "code",
   "execution_count": null,
   "id": "92546bd8",
   "metadata": {},
   "outputs": [],
   "source": [
    "Q.9. Write a code to create the given structure using only for loop.\n",
    "    *\n",
    "   ***\n",
    "  *****\n",
    " *******\n",
    "*********"
   ]
  },
  {
   "cell_type": "code",
   "execution_count": 6,
   "id": "973da9a1",
   "metadata": {},
   "outputs": [
    {
     "name": "stdout",
     "output_type": "stream",
     "text": [
      "    *\n",
      "   ***\n",
      "  *****\n",
      " *******\n",
      "*********\n"
     ]
    }
   ],
   "source": [
    "#Ans9. \n",
    "\n",
    "rows = 5  # Number of rows in the pattern\n",
    "\n",
    "for i in range(1, rows + 1):\n",
    "    # Print spaces before stars\n",
    "    for j in range(rows - i):\n",
    "        print(\" \", end=\"\")\n",
    "    \n",
    "    # Print stars\n",
    "    for k in range(2 * i - 1):\n",
    "        print(\"*\", end=\"\")\n",
    "    \n",
    "    # Move to the next line after printing each row\n",
    "    print()\n"
   ]
  },
  {
   "cell_type": "code",
   "execution_count": null,
   "id": "b4aa259d",
   "metadata": {},
   "outputs": [],
   "source": [
    "Q.10. Write a code to create the given structure using while loop.\n",
    "|||||||||\n",
    " |||||||\n",
    "  |||||\n",
    "   |||\n",
    "    |"
   ]
  },
  {
   "cell_type": "code",
   "execution_count": 5,
   "id": "3bc35a08",
   "metadata": {},
   "outputs": [
    {
     "name": "stdout",
     "output_type": "stream",
     "text": [
      "|||||||||\n",
      " |||||||\n",
      "  |||||\n",
      "   |||\n",
      "    |\n"
     ]
    }
   ],
   "source": [
    "#Ans10. \n",
    "\n",
    "rows = 5  # Number of rows in the pattern\n",
    "i = 0\n",
    "\n",
    "while i < rows:\n",
    "    # Print spaces before bars\n",
    "    j = 0\n",
    "    while j < i:\n",
    "        print(\" \", end=\"\")\n",
    "        j += 1\n",
    "    \n",
    "    # Print bars\n",
    "    k = 0\n",
    "    while k < 2 * (rows - i) - 1:\n",
    "        print(\"|\", end=\"\")\n",
    "        k += 1\n",
    "    \n",
    "    # Move to the next line after printing each row\n",
    "    print()\n",
    "    i += 1\n"
   ]
  }
 ],
 "metadata": {
  "kernelspec": {
   "display_name": "Python 3 (ipykernel)",
   "language": "python",
   "name": "python3"
  },
  "language_info": {
   "codemirror_mode": {
    "name": "ipython",
    "version": 3
   },
   "file_extension": ".py",
   "mimetype": "text/x-python",
   "name": "python",
   "nbconvert_exporter": "python",
   "pygments_lexer": "ipython3",
   "version": "3.11.3"
  }
 },
 "nbformat": 4,
 "nbformat_minor": 5
}
